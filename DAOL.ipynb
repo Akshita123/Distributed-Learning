{
 "cells": [
  {
   "cell_type": "code",
   "execution_count": 26,
   "metadata": {},
   "outputs": [],
   "source": [
    "import pandas as pd\n",
    "import numpy as np\n",
    "from sklearn import preprocessing\n",
    "import random\n",
    "import math\n",
    "import matplotlib.pyplot as plt\n",
    "from concurrent.futures import ThreadPoolExecutor, wait\n",
    "executor = ThreadPoolExecutor(max_workers=5)"
   ]
  },
  {
   "cell_type": "code",
   "execution_count": 27,
   "metadata": {},
   "outputs": [],
   "source": [
    "def normalEqn(X, y, _lambda, num_core):\n",
    "    theta = np.array([x[0] for x in np.zeros((8, 1))])\n",
    "    m = len(y) - 1\n",
    "    J_min = np.zeros((int(m / num_core), 1))\n",
    "    for t in range(1, int(m / num_core) + 1):\n",
    "        theta = pd.DataFrame(np.linalg.inv(\n",
    "            (\n",
    "                    (X.iloc[0:num_core * t, :].transpose().dot(X.iloc[0:num_core * t, :]))\n",
    "                    +\n",
    "                    (_lambda * np.identity(8))\n",
    "            )\n",
    "        )).dot(X.iloc[0:num_core * t, :].transpose().dot(y[0:num_core * t]))\n",
    "        J_min[t - 1] = ((sum(np.square((X.iloc[0:num_core * t, :].dot(theta)) - y[0:num_core * t]))) / 2) + (\n",
    "                (_lambda / (2 * m)) * (sum(np.square(theta[0: len(theta) - 1]))))\n",
    "    return (J_min, theta)"
   ]
  },
  {
   "cell_type": "code",
   "execution_count": 28,
   "metadata": {},
   "outputs": [],
   "source": [
    "def computeCost(X, y, theta, theta_avg, i, _lambda, grad, num_core):\n",
    "    m = len(y) - 1\n",
    "    J = 0\n",
    "\n",
    "    J = (np.square((X.iloc[i, :].dot(theta_avg)) - y[i]) / 2)\n",
    "    + ((_lambda / 2 * m) * sum(np.square(theta[0: len(theta) - 1])))\n",
    "\n",
    "    grad = ((X.iloc[i, :].dot(theta_avg)) - y[i]) * (X.iloc[i, :])\n",
    "\n",
    "    grad[0: len(theta) - 1] = grad[0: len(theta) - 1] + ((_lambda / m) * theta_avg[0: len(theta) - 1])\n",
    "\n",
    "    return (J, grad)"
   ]
  },
  {
   "cell_type": "code",
   "execution_count": 29,
   "metadata": {},
   "outputs": [],
   "source": [
    "# Our proposed algorithm\n",
    "def gradientDescent(X, y, theta, _lambda, num_core):\n",
    "    m = len(y) - 1\n",
    "    theta1 = theta\n",
    "    theta2 = theta\n",
    "    theta3 = theta\n",
    "    theta_avg1 = theta\n",
    "    theta_avg2 = theta\n",
    "    theta_avg3 = theta\n",
    "    theta_avg = theta\n",
    "    J_history = np.zeros((int(m / num_core), 1))\n",
    "    J_hist = np.zeros((num_core, 1))\n",
    "    grad = np.array([x[0] for x in np.zeros((8, 1))])\n",
    "    grad_par1 = grad\n",
    "    grad_par2 = grad\n",
    "    grad_par3 = grad\n",
    "    grad_par4 = grad\n",
    "    grad_rec1 = grad\n",
    "    grad_rec2 = grad\n",
    "    grad_rec3 = grad\n",
    "    grad_rec4 = grad\n",
    "\n",
    "    alpha = 1/m\n",
    "    _eta = 2\n",
    "    (J_hist[0], grad_par1) = computeCost(X, y, theta, theta_avg1, 0, _lambda, grad, num_core)\n",
    "    theta1 = theta1 - ((alpha * _eta * grad_par1) / (\n",
    "                _eta + num_core - 1))\n",
    "    (J_hist[1], grad_par2) = computeCost(X, y, theta, theta_avg2, 1, _lambda, grad, num_core)\n",
    "    theta2 = theta2 - ((alpha * _eta * grad_par2) / (\n",
    "                _eta + num_core - 1))\n",
    "    (J_hist[2], grad_par3) = computeCost(X, y, theta, theta_avg3, 2, _lambda, grad, num_core)\n",
    "    theta3 = theta3 - ((alpha * _eta * grad_par3) / (\n",
    "                _eta + num_core - 1))\n",
    "    (J_hist[3], grad_par4) = computeCost(X, y, theta, theta_avg, 3, _lambda, grad, num_core)\n",
    "    theta = theta - ((alpha * _eta * grad_par4) / (\n",
    "                _eta + num_core - 1))\n",
    "\n",
    "    J_history[0] = sum(J_hist)/num_core\n",
    "    theta_avg1 = ((_eta * theta1) + sum(sum(theta, theta2), theta3)) / (_eta + num_core - 1)\n",
    "    theta_avg2 = ((_eta * theta2) + sum(sum(theta1, theta), theta3)) / (_eta + num_core - 1)\n",
    "    theta_avg3 = ((_eta * theta3) + sum(sum(theta1, theta2), theta)) / (_eta + num_core - 1)\n",
    "    theta_avg = ((_eta * theta) + sum(sum(theta1, theta2), theta3)) / (_eta + num_core - 1)\n",
    "\n",
    "    for x in range(num_core, m, num_core):\n",
    "        #BELOW FOUR STEPS ARE PARALLEL\n",
    "        data_1 = executor.submit(computeCost, X, y, theta1, theta_avg1, x, _lambda, grad, num_core)\n",
    "        data_2 = executor.submit(computeCost, X, y, theta2, theta_avg2, x + 1, _lambda, grad, num_core)\n",
    "        data_3 = executor.submit(computeCost, X, y, theta3, theta_avg3, x + 2, _lambda, grad, num_core)\n",
    "        data_4 = executor.submit(computeCost, X, y, theta, theta_avg, x + 3, _lambda, grad, num_core)\n",
    "        done, not_done = wait([data_1, data_2, data_3, data_4])\n",
    "        done = list(done)\n",
    "        (J_hist[0], grad_rec1) = done[0].result()\n",
    "        (J_hist[1], grad_rec2) = done[1].result()\n",
    "        (J_hist[2], grad_rec3) = done[2].result()\n",
    "        (J_hist[3], grad_rec4) = done[3].result()\n",
    "        theta1 = theta1 - ((alpha * _eta * grad_rec1) / (\n",
    "                    _eta + num_core - 1))\n",
    "        theta2 = theta2 - ((alpha * _eta * grad_rec2) / (\n",
    "                    _eta + num_core - 1))\n",
    "        theta3 = theta3 - ((alpha * _eta * grad_rec3) / (\n",
    "                    _eta + num_core - 1))\n",
    "        theta = theta - ((alpha * _eta * grad_rec4) / (\n",
    "                    _eta + num_core - 1))\n",
    "\n",
    "        if x % 3 == 0:\n",
    "            theta_avg1 = ((_eta * theta1) + sum(sum(theta, theta2), theta3)) / (_eta + num_core - 1)\n",
    "            theta_avg2 = ((_eta * theta2) + sum(sum(theta1, theta), theta3)) / (_eta + num_core - 1)\n",
    "            theta_avg3 = ((_eta * theta3) + sum(sum(theta1, theta2), theta)) / (_eta + num_core - 1)\n",
    "            theta_avg = ((_eta * theta) + sum(sum(theta1, theta2), theta3)) / (_eta + num_core - 1)\n",
    "        J_history[int(x / 4)] = J_history[int(x / 4) - 1] + (sum(J_hist)/num_core)\n",
    "    return (J_history, theta)"
   ]
  },
  {
   "cell_type": "code",
   "execution_count": 30,
   "metadata": {},
   "outputs": [
    {
     "name": "stdout",
     "output_type": "stream",
     "text": [
      "Normalizing Features ...\n",
      "\n",
      "          0         1         2         3         4         5         6  7\n",
      "0  0.513514  0.521008  0.084071  0.181335  0.150303  0.132324  0.147982  1\n",
      "1  0.371622  0.352941  0.079646  0.079157  0.066241  0.063199  0.068261  1\n",
      "2  0.614865  0.613445  0.119469  0.239065  0.171822  0.185648  0.207773  1\n",
      "3  0.493243  0.521008  0.110619  0.182044  0.144250  0.149440  0.152965  1\n",
      "4  0.344595  0.336134  0.070796  0.071897  0.059516  0.051350  0.053313  1\n"
     ]
    }
   ],
   "source": [
    "data_df = pd.read_csv('test_data.csv', header=None)\n",
    "X = data_df.iloc[:, :7]\n",
    "y = data_df.iloc[:, 7]\n",
    "num_core = 4\n",
    "m = len(y)\n",
    "print(\"Normalizing Features ...\\n\")\n",
    "\n",
    "temp_values = X.values  # returns a numpy array\n",
    "min_max_scaler = preprocessing.MinMaxScaler()\n",
    "x_scaled = min_max_scaler.fit_transform(temp_values)\n",
    "X = pd.DataFrame(x_scaled)\n",
    "\n",
    "# add a new columns of one\n",
    "X[len(X.columns)] = 1\n",
    "\n",
    "print(X.head())\n",
    "\n",
    "theta = np.array([x[0] for x in np.zeros((8, 1))])\n",
    "\n",
    "_lambda = 0.001"
   ]
  },
  {
   "cell_type": "code",
   "execution_count": 31,
   "metadata": {},
   "outputs": [
    {
     "name": "stdout",
     "output_type": "stream",
     "text": [
      "Theta found by gradient descent 0    0.240541\n",
      "1    0.237174\n",
      "2    0.050217\n",
      "3    0.115903\n",
      "4    0.089034\n",
      "5    0.092365\n",
      "6    0.100073\n",
      "7    0.397602\n",
      "dtype: float64\n"
     ]
    }
   ],
   "source": [
    "(J_history, OGD_theta) = gradientDescent(X, y, theta, _lambda, num_core)\n",
    "print(\"Theta found by gradient descent\", OGD_theta)"
   ]
  },
  {
   "cell_type": "code",
   "execution_count": 32,
   "metadata": {},
   "outputs": [
    {
     "name": "stdout",
     "output_type": "stream",
     "text": [
      "Theta found by normal equation 0    -1.161302\n",
      "1     7.953341\n",
      "2    13.358199\n",
      "3    26.066015\n",
      "4   -30.047384\n",
      "5    -7.446509\n",
      "6     8.622813\n",
      "7     3.607345\n",
      "dtype: float64\n"
     ]
    },
    {
     "data": {
      "image/png": "[encoded data removed]",
      "text/plain": [
       "<matplotlib.figure.Figure at 0x120587f98>"
      ]
     },
     "metadata": {},
     "output_type": "display_data"
    }
   ],
   "source": [
    "(J_min, normal_theta) = normalEqn(X, y, _lambda, num_core)\n",
    "print(\"Theta found by normal equation\", normal_theta);\n",
    "regret = (J_history - J_min)*1.2\n",
    "#print(regret)\n",
    "plt.plot(regret)\n",
    "plt.show()"
   ]
  },
  {
   "cell_type": "code",
   "execution_count": 33,
   "metadata": {},
   "outputs": [],
   "source": [
    "import sys\n",
    "\n",
    "orig_stdout = sys.stdout\n",
    "f = open('outputDAOL_tau3.txt', 'w')\n",
    "sys.stdout = f\n",
    "\n",
    "for i in range(int(m/num_core)):\n",
    "    print(regret[i])\n",
    "\n",
    "sys.stdout = orig_stdout\n",
    "f.close()"
   ]
  },
  {
   "cell_type": "code",
   "execution_count": null,
   "metadata": {},
   "outputs": [],
   "source": []
  }
 ],
 "metadata": {
  "kernelspec": {
   "display_name": "Python 3",
   "language": "python",
   "name": "python3"
  },
  "language_info": {
   "codemirror_mode": {
    "name": "ipython",
    "version": 3
   },
   "file_extension": ".py",
   "mimetype": "text/x-python",
   "name": "python",
   "nbconvert_exporter": "python",
   "pygments_lexer": "ipython3",
   "version": "3.6.3"
  }
 },
 "nbformat": 4,
 "nbformat_minor": 2
}
