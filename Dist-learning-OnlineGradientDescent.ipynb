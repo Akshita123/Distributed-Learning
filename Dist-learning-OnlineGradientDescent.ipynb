{
 "cells": [
  {
   "cell_type": "code",
   "execution_count": 1,
   "metadata": {},
   "outputs": [],
   "source": [
    "import pandas as pd\n",
    "import numpy as np\n",
    "from sklearn import preprocessing\n",
    "import random\n",
    "import math\n",
    "import matplotlib.pyplot as plt"
   ]
  },
  {
   "cell_type": "code",
   "execution_count": 2,
   "metadata": {},
   "outputs": [],
   "source": [
    "def normalEqn(X, y, _lambda, num_core):\n",
    "    theta = np.array([x[0] for x in np.zeros((8, 1))])\n",
    "    m = len(y)-1\n",
    "    J_min = np.zeros((int(m/num_core), 1))\n",
    "    for t in range(1,int(m/num_core)+1):\n",
    "        theta = pd.DataFrame(np.linalg.inv(\n",
    "            (\n",
    "                    (X.iloc[0:num_core*t,:].transpose().dot(X.iloc[0:num_core*t,:]))\n",
    "                    +\n",
    "                 (_lambda*np.identity(8))\n",
    "            )\n",
    "        )).dot(X.iloc[0:num_core*t,:].transpose().dot(y[0:num_core*t]))\n",
    "        J_min[t-1] = ((sum(np.square((X.iloc[0:num_core*t,:].dot(theta)) - y[0:num_core*t]))) / 2) + (\n",
    "                    (_lambda / (2 * m)) * (sum(np.square(theta[0: len(theta)-1]))))\n",
    "    return (J_min, theta)"
   ]
  },
  {
   "cell_type": "code",
   "execution_count": 3,
   "metadata": {},
   "outputs": [],
   "source": [
    "def computeCost(X, y, theta, i, _lambda, grad, num_core):\n",
    "    m = len(y)-1\n",
    "    J = 0\n",
    "    \n",
    "    J = sum(np.square((X.iloc[num_core*i:num_core*i+num_core,:].dot(theta)) - y[num_core*i:num_core*i+num_core]) / 2) \n",
    "    + ((_lambda / 2*m) * sum(np.square(theta[0: len(theta)-1])))\n",
    "    \n",
    "    grad = (((X.iloc[num_core*i:num_core*i+num_core,:].dot(theta)) - y[num_core*i:num_core*i+num_core]).transpose()\n",
    "            .dot(X.iloc[num_core*i:num_core*i+num_core, :])).transpose() \n",
    "    \n",
    "    grad[0: len(theta)-1] = grad[0: len(theta)-1] + ((_lambda / m)*theta[0: len(theta)-1])\n",
    "    \n",
    "    return (J, grad)"
   ]
  },
  {
   "cell_type": "code",
   "execution_count": 4,
   "metadata": {},
   "outputs": [],
   "source": [
    "#Performs Gradient Descent in each iteration\n",
    "def gradientDescent(X, y, theta, _lambda, num_core):\n",
    "    m = len(y)-1\n",
    "    J_history = np.zeros((int(m/num_core), 1))\n",
    "    grad = np.zeros((theta.shape[0], 1))\n",
    "    (J_history[0], grad) = computeCost(X, y, theta, 0, _lambda, grad, num_core)\n",
    "    alpha=1/m\n",
    "    theta = theta - (alpha * grad) \n",
    "    for x in range(1,int(m/num_core)):\n",
    "        (J_history[x], grad) = computeCost(X, y, theta, x, _lambda, grad, num_core)\n",
    "        #alpha=1/math.sqrt(x+1)\n",
    "        theta = theta - (alpha * grad) \n",
    "        J_history[x] = J_history[x - 1] + J_history[x]\n",
    "    return (J_history, theta)"
   ]
  },
  {
   "cell_type": "code",
   "execution_count": 5,
   "metadata": {},
   "outputs": [
    {
     "name": "stdout",
     "output_type": "stream",
     "text": [
      "Normalizing Features ...\n",
      "\n",
      "          0         1         2         3         4         5         6  7\n",
      "0  0.513514  0.521008  0.084071  0.181335  0.150303  0.132324  0.147982  1\n",
      "1  0.371622  0.352941  0.079646  0.079157  0.066241  0.063199  0.068261  1\n",
      "2  0.614865  0.613445  0.119469  0.239065  0.171822  0.185648  0.207773  1\n",
      "3  0.493243  0.521008  0.110619  0.182044  0.144250  0.149440  0.152965  1\n",
      "4  0.344595  0.336134  0.070796  0.071897  0.059516  0.051350  0.053313  1\n"
     ]
    }
   ],
   "source": [
    "data_df = pd.read_csv('test_data.csv', header=None)\n",
    "X = data_df.iloc[:,:7]\n",
    "y = data_df.iloc[:,7]\n",
    "num_core=4\n",
    "m = len(y)\n",
    "print(\"Normalizing Features ...\\n\")\n",
    "\n",
    "temp_values = X.values #returns a numpy array\n",
    "min_max_scaler = preprocessing.MinMaxScaler()\n",
    "x_scaled = min_max_scaler.fit_transform(temp_values)\n",
    "X = pd.DataFrame(x_scaled)\n",
    "\n",
    "#add a new columns of one\n",
    "X[len(X.columns)]=1\n",
    "\n",
    "print(X.head())\n",
    "\n",
    "theta = np.array([x[0] for x in np.zeros((8,1))])\n",
    "\n",
    "_lambda = 0.001"
   ]
  },
  {
   "cell_type": "code",
   "execution_count": 6,
   "metadata": {},
   "outputs": [
    {
     "name": "stdout",
     "output_type": "stream",
     "text": [
      "Theta found by gradient descent 0    2.619769\n",
      "1    2.581995\n",
      "2    0.545121\n",
      "3    1.317343\n",
      "4    1.021356\n",
      "5    1.054095\n",
      "6    1.121033\n",
      "7    4.165460\n",
      "dtype: float64\n"
     ]
    }
   ],
   "source": [
    "(J_history, OGD_theta) = gradientDescent(X, y, theta, _lambda, num_core)\n",
    "print(\"Theta found by gradient descent\", OGD_theta)"
   ]
  },
  {
   "cell_type": "code",
   "execution_count": 7,
   "metadata": {},
   "outputs": [
    {
     "name": "stdout",
     "output_type": "stream",
     "text": [
      "Theta found by normal equation 0    -1.161302\n",
      "1     7.953341\n",
      "2    13.358199\n",
      "3    26.066015\n",
      "4   -30.047384\n",
      "5    -7.446509\n",
      "6     8.622813\n",
      "7     3.607345\n",
      "dtype: float64\n"
     ]
    },
    {
     "data": {
      "image/png": "[encoded data removed]",
      "text/plain": [
       "<matplotlib.figure.Figure at 0x12057ecf8>"
      ]
     },
     "metadata": {},
     "output_type": "display_data"
    }
   ],
   "source": [
    "(J_min, normal_theta) = normalEqn(X, y, _lambda, num_core)\n",
    "print(\"Theta found by normal equation\",normal_theta);\n",
    "regret = J_history - J_min\n",
    "plt.plot(regret)\n",
    "plt.show()"
   ]
  }
 ],
 "metadata": {
  "kernelspec": {
   "display_name": "Python 3",
   "language": "python",
   "name": "python3"
  },
  "language_info": {
   "codemirror_mode": {
    "name": "ipython",
    "version": 3
   },
   "file_extension": ".py",
   "mimetype": "text/x-python",
   "name": "python",
   "nbconvert_exporter": "python",
   "pygments_lexer": "ipython3",
   "version": "3.6.3"
  }
 },
 "nbformat": 4,
 "nbformat_minor": 2
}
